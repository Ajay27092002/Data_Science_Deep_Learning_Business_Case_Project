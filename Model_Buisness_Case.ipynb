{
 "cells": [
  {
   "cell_type": "markdown",
   "id": "80ffe06a-066a-414f-86ac-3c009fca6e68",
   "metadata": {},
   "source": [
    "# Create the machine learning algorithm"
   ]
  },
  {
   "cell_type": "code",
   "execution_count": 78,
   "id": "f710e028-d5b4-40f9-a533-9e0c3cf76915",
   "metadata": {},
   "outputs": [],
   "source": [
    "import numpy as np\n",
    "import tensorflow as tf"
   ]
  },
  {
   "cell_type": "markdown",
   "id": "a5a2dca9-702d-4505-aa74-771bf43de89e",
   "metadata": {},
   "source": [
    "# Data"
   ]
  },
  {
   "cell_type": "code",
   "execution_count": 80,
   "id": "bea5dd53-2848-4e8f-8a59-e745e95646b5",
   "metadata": {},
   "outputs": [],
   "source": [
    "npz = np.load('Audiobooks_data_train.npz')\n",
    "train_inputs = npz['inputs'].astype(float)\n",
    "train_targets = npz['targets'].astype(int)\n",
    "\n",
    "npz = np.load('Audiobooks_data_validation.npz')\n",
    "validation_inputs, validation_targets = npz['inputs'].astype(float), npz['targets'].astype(int)\n",
    "\n",
    "npz = np.load('Audiobooks_data_test.npz')\n",
    "test_inputs = npz['inputs'].astype(float)\n",
    "test_targets = npz['targets'].astype(int)\n",
    "\n"
   ]
  },
  {
   "cell_type": "markdown",
   "id": "adc63ff9-7353-43ad-9cf4-be2934d54752",
   "metadata": {},
   "source": [
    "# Model"
   ]
  },
  {
   "cell_type": "code",
   "execution_count": 82,
   "id": "35bffeb9-60a1-4e31-af6b-79d4876a9edc",
   "metadata": {
    "scrolled": true
   },
   "outputs": [
    {
     "name": "stdout",
     "output_type": "stream",
     "text": [
      "Epoch 1/100\n",
      "36/36 - 3s - loss: 0.6203 - accuracy: 0.6426 - val_loss: 0.5534 - val_accuracy: 0.6779 - 3s/epoch - 78ms/step\n",
      "Epoch 2/100\n",
      "36/36 - 0s - loss: 0.4944 - accuracy: 0.7446 - val_loss: 0.4692 - val_accuracy: 0.7271 - 300ms/epoch - 8ms/step\n"
     ]
    },
    {
     "data": {
      "text/plain": [
       "<keras.callbacks.History at 0x22d9f11db70>"
      ]
     },
     "execution_count": 82,
     "metadata": {},
     "output_type": "execute_result"
    }
   ],
   "source": [
    "input_size = 10\n",
    "output_size = 2\n",
    "hidden_layer_size = 50\n",
    "model = tf.keras.Sequential([\n",
    "                            tf.keras.layers.Dense(hidden_layer_size, activation = 'relu'), \n",
    "                            tf.keras.layers.Dense(hidden_layer_size, activation = 'relu'), \n",
    "                            tf.keras.layers.Dense(output_size, activation = 'softmax')\n",
    "                            ])\n",
    "\n",
    "model.compile(optimizer = 'adam' , loss = 'sparse_categorical_crossentropy', metrics = ['accuracy'])\n",
    "\n",
    "batch_size = 100\n",
    "max_epochs = 100\n",
    "\n",
    "\n",
    "early_stopping = tf.keras.callbacks.EarlyStopping()\n",
    "\n",
    "model.fit(train_inputs,train_targets, \n",
    "          batch_size = batch_size, \n",
    "          epochs = max_epochs, \n",
    "          callbacks = (early_stopping),\n",
    "          validation_data = (validation_inputs, validation_targets), \n",
    "          verbose = 2)"
   ]
  },
  {
   "cell_type": "code",
   "execution_count": null,
   "id": "ecdc09e1-bfc6-4119-a5b8-21c1e18d1516",
   "metadata": {},
   "outputs": [],
   "source": []
  }
 ],
 "metadata": {
  "kernelspec": {
   "display_name": "Python [conda env:tfds_env]",
   "language": "python",
   "name": "conda-env-tfds_env-py"
  },
  "language_info": {
   "codemirror_mode": {
    "name": "ipython",
    "version": 3
   },
   "file_extension": ".py",
   "mimetype": "text/x-python",
   "name": "python",
   "nbconvert_exporter": "python",
   "pygments_lexer": "ipython3",
   "version": "3.10.8"
  }
 },
 "nbformat": 4,
 "nbformat_minor": 5
}
