{
 "cells": [
  {
   "cell_type": "markdown",
   "id": "c2672aa3-c538-4cc5-ab7d-a0a4be7910f4",
   "metadata": {},
   "source": [
    "# Extract the data from the csv"
   ]
  },
  {
   "cell_type": "code",
   "execution_count": 19,
   "id": "bd8575bd-c31f-4dd6-9172-7d884edcc258",
   "metadata": {},
   "outputs": [],
   "source": [
    "import numpy as np\n",
    "from sklearn import preprocessing\n",
    "\n",
    "file_path = r'C:\\Users\\ajay4\\OneDrive\\Documents\\Resume\\Data science course\\Data\\Audiobooks_data.csv'\n",
    "raw_csv_data = np.loadtxt(file_path,delimiter = ',')\n",
    "\n",
    "unscaled_inputs_all = raw_csv_data[:,1:-1]\n",
    "targets_all = raw_csv_data[:,-1]"
   ]
  },
  {
   "cell_type": "markdown",
   "id": "83396ab1-4a2f-46af-b55f-1f46a07a0350",
   "metadata": {},
   "source": [
    "# Balance the dataset"
   ]
  },
  {
   "cell_type": "code",
   "execution_count": 22,
   "id": "bc460542-c243-44b3-829e-19e4d13ae2b5",
   "metadata": {},
   "outputs": [],
   "source": [
    "num_one_targets = int(np.sum(targets_all))\n",
    "zero_targets_counter = 0\n",
    "indicies_to_remove = []\n",
    "\n",
    "for i in range(targets_all.shape[0]):\n",
    "    if targets_all[i] == 0:\n",
    "        zero_targets_counter += 1\n",
    "        if zero_targets_counter > num_one_targets:\n",
    "            indicies_to_remove.append(i)\n",
    "\n",
    "unscaled_inputs_equal_priors = np.delete(unscaled_inputs_all, indicies_to_remove, axis = 0)\n",
    "targets_equal_priors = np.delete(targets_all, indicies_to_remove, axis = 0)"
   ]
  },
  {
   "cell_type": "markdown",
   "id": "b46a39d2-8437-4485-9b67-191f1b6fa6f7",
   "metadata": {},
   "source": [
    "# Standardize the inputs"
   ]
  },
  {
   "cell_type": "code",
   "execution_count": 25,
   "id": "88e9b880-b6b9-44d9-b3a8-2e15d9f25722",
   "metadata": {},
   "outputs": [],
   "source": [
    "scaled_inputs = preprocessing.scale(unscaled_inputs_equal_priors)"
   ]
  },
  {
   "cell_type": "markdown",
   "id": "72824bc1-6014-4da5-bd6f-a44389e21ba6",
   "metadata": {},
   "source": [
    "# Shuffle the data"
   ]
  },
  {
   "cell_type": "code",
   "execution_count": 28,
   "id": "2dd48282-ad0d-45aa-8431-2c01405693ce",
   "metadata": {},
   "outputs": [],
   "source": [
    "shuffled_indices = np.arange(scaled_inputs.shape[0])\n",
    "np.random.shuffle(shuffled_indices)\n",
    "\n",
    "shuffled_inputs = scaled_inputs[shuffled_indices]\n",
    "shuffled_targets = targets_equal_priors[shuffled_indices]"
   ]
  },
  {
   "cell_type": "markdown",
   "id": "c9208e24-e0a6-4356-8116-be2e806f6716",
   "metadata": {},
   "source": [
    "# Split the dataset into train, validation, and test"
   ]
  },
  {
   "cell_type": "code",
   "execution_count": 31,
   "id": "74728bb6-c7f8-4070-b378-39b5d299068b",
   "metadata": {},
   "outputs": [
    {
     "name": "stdout",
     "output_type": "stream",
     "text": [
      "1798.0 3579 0.502374965074043\n",
      "217.0 447 0.4854586129753915\n",
      "222.0 3132 0.07088122605363985\n"
     ]
    }
   ],
   "source": [
    "samples_count = shuffled_inputs.shape[0]\n",
    "\n",
    "train_samples_count = int(0.8*samples_count)\n",
    "validation_samples_count = int(0.1*samples_count)\n",
    "test_samples_count = train_samples_count - validation_samples_count\n",
    "\n",
    "train_inputs = shuffled_inputs[:train_samples_count]\n",
    "train_targets = shuffled_targets[:train_samples_count] \n",
    "\n",
    "validation_inputs = shuffled_inputs[train_samples_count:train_samples_count+validation_samples_count]\n",
    "validation_targets = shuffled_targets[train_samples_count:train_samples_count+validation_samples_count]\n",
    "\n",
    "test_inputs = shuffled_inputs[train_samples_count+validation_samples_count:]\n",
    "test_targets = shuffled_targets[train_samples_count+validation_samples_count:]\n",
    "\n",
    "print(np.sum(train_targets),train_samples_count, np.sum(train_targets)/train_samples_count)\n",
    "print(np.sum(validation_targets),validation_samples_count, np.sum(validation_targets)/validation_samples_count)\n",
    "print(np.sum(test_targets),test_samples_count, np.sum(test_targets)/test_samples_count)"
   ]
  },
  {
   "cell_type": "markdown",
   "id": "5a1a7664-b24d-41c0-af2c-25beee9b8281",
   "metadata": {},
   "source": [
    "# Save the three datasets in *.npz"
   ]
  },
  {
   "cell_type": "code",
   "execution_count": 34,
   "id": "34df9ac7-f85e-48a7-b7ef-ab3b117c8d01",
   "metadata": {},
   "outputs": [],
   "source": [
    "np.savez('Audiobooks_data_train', inputs = train_inputs, targets = train_targets)\n",
    "np.savez('Audiobooks_data_validation', inputs = validation_inputs, targets = validation_targets)\n",
    "np.savez('Audiobooks_data_test', inputs = test_inputs, targets = test_targets)\n"
   ]
  },
  {
   "cell_type": "code",
   "execution_count": 36,
   "id": "9683de2b-79df-4e1a-b43f-ca47a8a413cd",
   "metadata": {},
   "outputs": [
    {
     "name": "stdout",
     "output_type": "stream",
     "text": [
      "Train targets: [0. 1.]\n",
      "Validation targets: [0. 1.]\n",
      "Test targets: [0. 1.]\n"
     ]
    }
   ],
   "source": [
    "print(\"Train targets:\", np.unique(train_targets))\n",
    "print(\"Validation targets:\", np.unique(validation_targets))\n",
    "print(\"Test targets:\", np.unique(test_targets))\n"
   ]
  },
  {
   "cell_type": "code",
   "execution_count": null,
   "id": "4cd9a441-b8ab-4f02-9e31-a5283b3652a5",
   "metadata": {},
   "outputs": [],
   "source": []
  }
 ],
 "metadata": {
  "kernelspec": {
   "display_name": "Python [conda env:tfds_env]",
   "language": "python",
   "name": "conda-env-tfds_env-py"
  },
  "language_info": {
   "codemirror_mode": {
    "name": "ipython",
    "version": 3
   },
   "file_extension": ".py",
   "mimetype": "text/x-python",
   "name": "python",
   "nbconvert_exporter": "python",
   "pygments_lexer": "ipython3",
   "version": "3.10.8"
  }
 },
 "nbformat": 4,
 "nbformat_minor": 5
}
